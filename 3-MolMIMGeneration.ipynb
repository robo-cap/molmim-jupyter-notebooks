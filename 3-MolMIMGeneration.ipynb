{
 "cells": [
  {
   "cell_type": "markdown",
   "id": "4e44363e-436d-4680-a6f0-c8d791410d79",
   "metadata": {
    "jupyter": {
     "source_hidden": true
    }
   },
   "source": [
    "# Sampling Chemical Space for Drug Discovery using the MolMIM NIM\n",
    "\n",
    "```{note}\n",
    "This notebook assumes that you have the MolMIM NIM available at the following address: `http://molmim:8000`. If your container is available at different address, you will need to modify the URL below.\n",
    "```\n",
    "\n",
    "In the field of drug discovery, identifying novel and effective compounds is a crucial step in the development of new medicines. Chemical space, the vast expanse of all possible chemical compounds, is a complex landscape that can be difficult to navigate. Molecular generative AI models, such as MolMIM, can be used to sample this space and identify promising compounds.\n",
    "\n",
    "## Unguided Sampling: Exploring Chemical Space around a Starting Seed Molecule\n",
    "\n",
    "In this notebook, we will use MolMIM to perform unguided sampling around a starting seed molecule, upadacitinib. Unguided sampling involves generating new molecules without any specific goal or objective in mind. This can be useful for exploring new areas of chemical space and identifying novel compounds that may not have been considered before.\n",
    "\n",
    "## Guided Optimization: Improving a Seed Molecule's QED Score\n",
    "\n",
    "In addition to unguided sampling, we will also use MolMIM to perform guided optimization of the same seed molecule, upadacitinib. Guided optimization involves using a specific objective function, such as the Quantitative Estimate of Drug-likeness (QED) score, to guide the generation of new molecules. In this case, we will use the CMA-ES algorithm to optimize the QED score of upadacitinib.\n",
    "\n",
    "## CMA-ES: A Global Optimization Algorithm\n",
    "\n",
    "CMA-ES (Covariance Matrix Adaptation Evolution Strategy) is a global optimization algorithm that is well-suited for optimizing complex objective functions such as the QED score. It uses a population of candidate solutions to search for the optimal solution, and adapts the covariance matrix of the search distribution to improve the search process.\n",
    "\n",
    "## Objectives\n",
    "\n",
    "In this notebook, we will use MolMIM to:\n",
    "\n",
    "1. Perform unguided sampling around the seed molecule upadacitinib to explore chemical space.\n",
    "2. Perform guided optimization of upadacitinib using CMA-ES to improve its QED score.\n",
    "\n",
    "## Random Sampling Around a Seed Molecule\n",
    "\n",
    "In the code blocks below, we will step through how to randomly sample molecules in a similar chemical space to a seed molecule, in this case upadacitinib. We begin by importing the necessary libraries."
   ]
  },
  {
   "cell_type": "code",
   "execution_count": null,
   "id": "ad0fdcb6-d1ad-4825-af28-ffb3c6e2680d",
   "metadata": {},
   "outputs": [],
   "source": [
    "import requests\n",
    "import json\n",
    "import matplotlib.pyplot as plt\n",
    "import numpy as np\n",
    "import pandas as pd\n",
    "from rdkit import Chem\n",
    "from rdkit.Chem.QED import qed\n",
    "from rdkit.Chem.AllChem import GetMorganFingerprintAsBitVect\n",
    "from rdkit.DataStructs import TanimotoSimilarity\n",
    "from rdkit import RDLogger                                                                                                                                                               \n",
    "RDLogger.DisableLog('rdApp.*')"
   ]
  },
  {
   "cell_type": "markdown",
   "id": "75cc4392-148a-48fc-821a-aea7af418e75",
   "metadata": {},
   "source": [
    "This code block defines a function called `tanimoto_similarity` that calculates the Tanimoto similarity between two molecules. The function takes two parameters: `smiles`, the SMILES string of the molecule to be compared, and `reference`, the SMILES string of the reference molecule. The function first gets the fingerprint parameters, then creates the fingerprint for the reference molecule. It then validates the input molecule by converting its SMILES string to a molecule object and checks if the object is None. If the object is None, it returns 0. Otherwise, it creates the fingerprint for the input molecule and calculates the Tanimoto similarity between the two fingerprints. The function returns the calculated Tanimoto similarity."
   ]
  },
  {
   "cell_type": "code",
   "execution_count": null,
   "id": "ea403fca-4f36-4c7d-9426-466c0d198676",
   "metadata": {},
   "outputs": [],
   "source": [
    "def tanimoto_similarity(smiles, reference: str):\n",
    "    # Get fingerprint params\n",
    "    fingerprint_radius_param = 2\n",
    "    fingerprint_nbits = 2048\n",
    "\n",
    "    # Handle the reference molecule\n",
    "    reference_mol = Chem.MolFromSmiles(reference)\n",
    "    reference_fingerprint = GetMorganFingerprintAsBitVect(\n",
    "        reference_mol, radius=fingerprint_radius_param, nBits=fingerprint_nbits\n",
    "    )\n",
    "\n",
    "    # Validate the other molecule\n",
    "    mol = Chem.MolFromSmiles(smiles)\n",
    "    if mol is None:\n",
    "        return 0\n",
    "\n",
    "    fingerprint = GetMorganFingerprintAsBitVect(mol, radius=fingerprint_radius_param, nBits=fingerprint_nbits)\n",
    "\n",
    "    # Calculate and return the Tanimoto similarity\n",
    "    return TanimotoSimilarity(fingerprint, reference_fingerprint)"
   ]
  },
  {
   "cell_type": "markdown",
   "id": "67ed7ab6-1b6d-452c-b189-4668863f289e",
   "metadata": {},
   "source": [
    "This next block defines the molecule of interest, which is the SMILES string representation of the molecule upadacitinib. This molecule will be used as a reference for calculating Tanimoto similarity and QED scores for other molecules in the script."
   ]
  },
  {
   "cell_type": "code",
   "execution_count": null,
   "id": "c921dd1a-10e0-4463-807e-5974482bfe63",
   "metadata": {},
   "outputs": [],
   "source": [
    "# Define the molecule of interest\n",
    "upadacitinib = 'CCC1CN(CC1C2=CN=C3N2C4=C(NC=C4)N=C3)C(=O)NCC(F)(F)F'"
   ]
  },
  {
   "cell_type": "markdown",
   "id": "498b2774-08cf-4e0a-bcc2-b02747047732",
   "metadata": {},
   "source": [
    "This code block defines the parameters for sampling radii and initializes lists and a dictionary to store the results of the sampling process. The `radii` variable is set to a numpy array of 10 evenly spaced values between 0.3 and 1.0, which will be used to sample different radii for the molecular fingerprint calculation. The `valid_smiles_counts`, `avg_tanimoto_similarities`, and `avg_qed_scores` lists will be used to store the number of valid SMILES strings, the average Tanimoto similarity, and the average QED score for each radius, respectively. The `results` dictionary will be used to store the results for each radius, with the radius as the key and a dictionary containing the results as the value."
   ]
  },
  {
   "cell_type": "code",
   "execution_count": null,
   "id": "72c2b6af-3f22-4ea1-801e-c06c72a45db5",
   "metadata": {},
   "outputs": [],
   "source": [
    "# Define the radii to sample\n",
    "radii = np.linspace(0.3, 1.0, num=10)\n",
    "\n",
    "# Initialize lists to store the results\n",
    "valid_smiles_counts = []\n",
    "avg_tanimoto_similarities = []\n",
    "avg_qed_scores = []\n",
    "\n",
    "# Create a dictionary to store the results\n",
    "results = {}"
   ]
  },
  {
   "cell_type": "markdown",
   "id": "6ae1a7cb-9b9b-4eb3-aff6-71b16d907453",
   "metadata": {},
   "source": [
    "This code block is responsible for processing the results of the molecule sampling at different radii. It iterates over each radius, sends a request to the MolMIM sampling API, extracts the generated SMILES strings, filters out invalid ones, calculates the Tanimoto similarity and QED score for each valid SMILES string, and stores the results. After processing all radii, it creates a Pandas dataframe from the results."
   ]
  },
  {
   "cell_type": "code",
   "execution_count": null,
   "id": "ecdf41fb-a7ae-4af9-aeef-19910ef315c6",
   "metadata": {},
   "outputs": [],
   "source": [
    "# Loop through each radius\n",
    "for radius in radii:\n",
    "    # Create a dictionary to store the results for this radius\n",
    "    radius_results = {'tanimoto_similarity': [], 'qed_score': []}\n",
    "    \n",
    "    # Create the request data\n",
    "    data = {'sequences': [upadacitinib], 'num_molecules': 10, 'scaled_radius': radius}\n",
    "\n",
    "    # Send the request and get the response\n",
    "    headers = {'Content-Type': 'application/json'}\n",
    "    response = requests.post('http://molmim:8000/sampling', headers=headers, json=data)\n",
    "\n",
    "    # Parse the response as JSON\n",
    "    response_json = json.loads(response.text)\n",
    "\n",
    "    # Extract the generated SMILES strings\n",
    "    generated_molecules = response_json['generated'][0]\n",
    "\n",
    "    # Filter out invalid SMILES strings\n",
    "    valid_smiles = [m for m in generated_molecules if Chem.MolFromSmiles(m) is not None]\n",
    "    radius_results['valid_smiles'] = len(valid_smiles)\n",
    "    \n",
    "    # Calculate Tanimoto similarity and QED score for each valid SMILES string\n",
    "    for smile in valid_smiles:\n",
    "        mol = Chem.MolFromSmiles(smile)\n",
    "        if mol:\n",
    "            tanimoto = tanimoto_similarity(smile, upadacitinib)\n",
    "            qed_score = qed(mol)\n",
    "            radius_results['tanimoto_similarity'].append(tanimoto)\n",
    "            radius_results['qed_score'].append(qed_score)\n",
    "\n",
    "    # Get the average of Tanimoto and QED scores\n",
    "    radius_results['tanimoto_similarity'] = np.mean(radius_results['tanimoto_similarity'])\n",
    "    radius_results['qed_score'] = np.mean(radius_results['qed_score'])\n",
    "    \n",
    "    # Store the results for this radius\n",
    "    results[radius] = radius_results\n",
    "\n",
    "# Create a Pandas dataframe from the results\n",
    "df = pd.DataFrame(results).T.reset_index()"
   ]
  },
  {
   "cell_type": "markdown",
   "id": "83dc583f-8e98-4d00-9d39-d9566523d818",
   "metadata": {},
   "source": [
    "The following block creates three plots to visualize the results of the sampling process. The plots show the number of valid SMILES strings, the average Tanimoto similarity, and the average QED score at each radius. The plots are created using the matplotlib library and are displayed using the `plt.show()` function."
   ]
  },
  {
   "cell_type": "code",
   "execution_count": null,
   "id": "0c342445-0873-4d73-907f-a731a93a20e5",
   "metadata": {},
   "outputs": [],
   "source": [
    "# Create the plots\n",
    "plt.figure(figsize=(20, 4))\n",
    "\n",
    "# Plot the number of valid SMILES strings at each radius\n",
    "plt.subplot(1, 3, 1)\n",
    "plt.plot(df['index'], df['valid_smiles'])\n",
    "plt.xlabel('Radius')\n",
    "plt.ylabel('Number of valid SMILES strings')\n",
    "plt.title('Number of valid SMILES strings at each radius')\n",
    "\n",
    "# Plot the average Tanimoto similarity at each radius\n",
    "plt.subplot(1, 3, 2)\n",
    "plt.plot(df['index'], df['tanimoto_similarity'])\n",
    "plt.xlabel('Radius')\n",
    "plt.ylabel('Average Tanimoto similarity')\n",
    "plt.title('Average Tanimoto similarity at each radius')\n",
    "\n",
    "# Plot the average QED score at each radius\n",
    "plt.subplot(1, 3, 3)\n",
    "plt.plot(df['index'], df['qed_score'])\n",
    "plt.xlabel('Radius')\n",
    "plt.ylabel('Average QED score')\n",
    "plt.title('Average QED score at each radius')\n",
    "\n",
    "plt.tight_layout()\n",
    "plt.show()"
   ]
  },
  {
   "cell_type": "markdown",
   "id": "992b9d30-d0ec-4654-8b69-f986934ed207",
   "metadata": {},
   "source": [
    "## Guided Molecular Generation with CMA-ES\n",
    "\n",
    "In contrast to the random sampling of the latent space described above, we can use a black box optimizer, called CMA-ES, to perform guided optimization of the a molecule's property through sampling of the latent space. In the blocks below, we use CMA-ES to optimize the QED score of the generated molecules while preseving a level of similary to the seed molecule, upadacitinib.\n",
    "\n",
    "This first block initializes variables to store the results of the script and sets up the parameters for the experiment. It defines three lists to store the counts of valid SMILES strings, average Tanimoto similarities, and average QED scores. It also creates an empty dictionary to store the results and a list of minimum similarities to be used in the experiment, ranging from 0.1 to 0.7 with 10 evenly spaced values."
   ]
  },
  {
   "cell_type": "code",
   "execution_count": null,
   "id": "625dfdea-b453-4e05-92aa-4aa4aea3544b",
   "metadata": {},
   "outputs": [],
   "source": [
    "# Initialize lists to store the results\n",
    "valid_smiles_counts = []\n",
    "avg_tanimoto_similarities = []\n",
    "avg_qed_scores = []\n",
    "\n",
    "# Create a dictionary to store the results\n",
    "results = {}\n",
    "\n",
    "# Create a list of minimum similarities\n",
    "min_sims = np.linspace(0.1, 0.7, 10)"
   ]
  },
  {
   "cell_type": "markdown",
   "id": "1fb8b268-4da7-4854-9cc9-8a8e7708f3bb",
   "metadata": {},
   "source": [
    "The following block is the main loop of the script, where it iterates over each minimum similarity value in the `min_sims` list. For each minimum similarity, it generates molecules using the CMA-ES algorithm, filters out invalid SMILES strings, calculates the Tanimoto similarity and QED score for each valid SMILES string, and stores the results. The results are stored in a dictionary called `results`, where the keys are the minimum similarity values and the values are dictionaries containing the number of valid SMILES strings, average Tanimoto similarity, and average QED score. After the loop, the results are converted into a Pandas dataframe for further analysis."
   ]
  },
  {
   "cell_type": "code",
   "execution_count": null,
   "id": "5dac62d8-a15d-4d3d-a692-861ec4ad298e",
   "metadata": {},
   "outputs": [],
   "source": [
    "# Loop through each radius\n",
    "for min_sim in min_sims:\n",
    "    # Create a dictionary to store the results for this min_sim\n",
    "    min_sim_results = {'tanimoto_similarity': [], 'qed_score': []}\n",
    "    \n",
    "    # Create the request data\n",
    "    data = {\n",
    "        'smi': upadacitinib,\n",
    "        'algorithm': 'CMA-ES',\n",
    "        'num_molecules': 10,\n",
    "        'property_name': 'QED',\n",
    "        'minimize': False,\n",
    "        'min_similarity': min_sim,\n",
    "        'particles': 20,\n",
    "        'iterations': 3\n",
    "    }\n",
    "\n",
    "    # Send the request and get the response\n",
    "    headers = {'Content-Type': 'application/json'}\n",
    "    response = requests.post('http://molmim:8000/generate', headers=headers, json=data)\n",
    "\n",
    "    # Parse the response as JSON\n",
    "    response_json = json.loads(response.text)\n",
    "\n",
    "    # Extract the generated SMILES strings\n",
    "    generated_molecules = [i['smiles'] for i in response_json['generated']]\n",
    "\n",
    "    # Filter out invalid SMILES strings\n",
    "    valid_smiles = [m for m in generated_molecules if Chem.MolFromSmiles(m) is not None]\n",
    "    min_sim_results['valid_smiles'] = len(valid_smiles)\n",
    "    \n",
    "    # Calculate Tanimoto similarity and QED score for each valid SMILES string\n",
    "    for smile in valid_smiles:\n",
    "        mol = Chem.MolFromSmiles(smile)\n",
    "        if mol:\n",
    "            tanimoto = tanimoto_similarity(smile, upadacitinib)\n",
    "            qed_score = qed(mol)\n",
    "            min_sim_results['tanimoto_similarity'].append(tanimoto)\n",
    "            min_sim_results['qed_score'].append(qed_score)\n",
    "\n",
    "    # Get the average of Tanimoto and QED scores\n",
    "    min_sim_results['tanimoto_similarity'] = np.mean(min_sim_results['tanimoto_similarity'])\n",
    "    min_sim_results['qed_score'] = np.mean(min_sim_results['qed_score'])\n",
    "    \n",
    "    # Store the results for this min_sim\n",
    "    results[min_sim] = min_sim_results\n",
    "\n",
    "# Create a Pandas dataframe from the results\n",
    "df = pd.DataFrame(results).T.reset_index()"
   ]
  },
  {
   "cell_type": "markdown",
   "id": "ba8b124f-0f42-49de-a914-a07d460a5e03",
   "metadata": {},
   "source": [
    "The following block creates three plots to visualize the results of the script. The first plot shows the number of valid SMILES strings generated at each minimum similarity threshold. The second plot shows the average Tanimoto similarity of the generated molecules at each minimum similarity threshold. The third plot shows the average QED score of the generated molecules at each minimum similarity threshold. The plots are arranged in a single figure with three subplots, and the figure is displayed using the `plt.show()` function."
   ]
  },
  {
   "cell_type": "code",
   "execution_count": null,
   "id": "159b0b27-9a27-47fb-b815-c28284f8bcd1",
   "metadata": {},
   "outputs": [],
   "source": [
    "# Create the plots\n",
    "plt.figure(figsize=(20, 4))\n",
    "\n",
    "# Plot the number of valid SMILES strings at each min_sim\n",
    "plt.subplot(1, 3, 1)\n",
    "plt.plot(df['index'], df['valid_smiles'])\n",
    "plt.xlabel('Minimum similarity')\n",
    "plt.ylabel('Number of valid SMILES strings')\n",
    "plt.title('Number of valid SMILES strings at each minimum similarity')\n",
    "\n",
    "# Plot the average Tanimoto similarity at each radius\n",
    "plt.subplot(1, 3, 2)\n",
    "plt.plot(df['index'], df['tanimoto_similarity'])\n",
    "plt.xlabel('Minimum similarity')\n",
    "plt.ylabel('Average Tanimoto similarity')\n",
    "plt.title('Average Tanimoto similarity at each minimum similarity')\n",
    "\n",
    "# Plot the average QED score at each radius\n",
    "plt.subplot(1, 3, 3)\n",
    "plt.plot(df['index'], df['qed_score'])\n",
    "plt.xlabel('Minimum similarity')\n",
    "plt.ylabel('Average QED score')\n",
    "plt.title('Average QED score at each minimum similarity')\n",
    "\n",
    "plt.tight_layout()\n",
    "plt.show()"
   ]
  },
  {
   "cell_type": "raw",
   "id": "601422ab-bb60-4492-b192-2bb4bc0169d1",
   "metadata": {},
   "source": [
    "Note that the `min_similarity` parameter is not a hard cutoff, but rather the minimum similarity necessary to receive a full score for the Tanimoto similarity component of the scoring function. Generally the average similarity will increase with increasing `minimum_similarity` thresholds, but the similarity of the generated molecules to the seed is not guaranted to exceed that threshold."
   ]
  },
  {
   "cell_type": "code",
   "execution_count": null,
   "id": "5d5f1dd7-acd3-48aa-b230-ba0fb0b856e9",
   "metadata": {},
   "outputs": [],
   "source": []
  }
 ],
 "metadata": {
  "kernelspec": {
   "display_name": "Python 3 (ipykernel)",
   "language": "python",
   "name": "python3"
  },
  "language_info": {
   "codemirror_mode": {
    "name": "ipython",
    "version": 3
   },
   "file_extension": ".py",
   "mimetype": "text/x-python",
   "name": "python",
   "nbconvert_exporter": "python",
   "pygments_lexer": "ipython3",
   "version": "3.11.6"
  }
 },
 "nbformat": 4,
 "nbformat_minor": 5
}
