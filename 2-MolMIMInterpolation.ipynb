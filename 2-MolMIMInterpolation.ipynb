{
 "cells": [
  {
   "cell_type": "markdown",
   "id": "f45647d6-3fc6-46d9-a2e9-ebaf7667f442",
   "metadata": {},
   "source": [
    "# Interpolating Between Molecules by Manipulating MolMIM Hidden States\n",
    "\n",
    "```{note}\n",
    "This notebook assumes that you have the MolMIM NIM available at the following address: `http://molmim:8000`. If your container is available at different address, you will need to modify the URL below.\n",
    "```\n",
    "\n",
    "Molecular interpolation is a technique that enables the creation of novel molecular structures by interpolating between existing molecules. This is achieved by training a generative AI model on a dataset of molecules and then using the model to generate new molecules that are a combination of the characteristics of two or more existing molecules.\n",
    "\n",
    "In the context of drug discovery, molecular interpolation can be a powerful tool for identifying new potential drug candidates. By interpolating between two molecules that have similar properties but differ in their chemical structure, researchers can generate new molecules that retain the desirable properties of the original molecules while introducing novel features that may enhance their efficacy or reduce their toxicity.\n",
    "\n",
    "In this notebook, we will be using the MolMIM NIM to interpolate between two JAK inhibitors, momelotinib and gandotinib. JAK inhibitors are a class of molecules that have shown promise in the treatment of various diseases, including cancer and autoimmune disorders. By interpolating between momelotinib and gandotinib, we can generate new molecules that may combine the beneficial properties of both molecules, such as improved potency, selectivity, and pharmacokinetic profiles.\n",
    "\n",
    "We will directly manipulate the hidden states of the two JAK inhibtors to generate the interpolated hidden states, then pass these modified hidden states to the model's decoder to translate them back to SMILES strings.\n",
    "\n",
    "We start by importing the necessary libraries."
   ]
  },
  {
   "cell_type": "code",
   "execution_count": null,
   "id": "d0e03d31-4be3-490f-b381-cee760a1c83d",
   "metadata": {
    "scrolled": true
   },
   "outputs": [],
   "source": [
    "import requests\n",
    "import json\n",
    "import numpy as np\n",
    "from rdkit import Chem\n",
    "from rdkit.Chem import Draw\n",
    "import matplotlib.pyplot as plt"
   ]
  },
  {
   "cell_type": "markdown",
   "id": "0eef0fec-ba4d-4b0a-8f17-57524d3ef311",
   "metadata": {},
   "source": [
    "The block below sets up the URL and headers for the request to retrieve the hidden states from the MolMIM model. It also defines the starting endpoint molecules `momelotinib` and `gandotinib` as SMILES strings."
   ]
  },
  {
   "cell_type": "code",
   "execution_count": null,
   "id": "0f1994d2-516b-4370-9011-8997980a414f",
   "metadata": {
    "scrolled": true
   },
   "outputs": [],
   "source": [
    "# Send the request to retrieve the hidden states\n",
    "url = \"http://molmim:8000/hidden\"\n",
    "headers = {\n",
    "    'accept': 'application/json',\n",
    "    'Content-Type': 'application/json'\n",
    "}\n",
    "\n",
    "# Specify the starting endpoint molecules\n",
    "momelotinib = Chem.CanonSmiles(\"C1COCCN1C2=CC=C(C=C2)NC3=NC=CC(=N3)C4=CC=C(C=C4)C(=O)NCC#N\")\n",
    "gandotinib = Chem.CanonSmiles(\"C12C(=CC(=NN1C(=C(N=2)C)CC1C(=CC(=CC=1)Cl)F)NC1=NNC(=C1)C)CN1CCOCC1\")\n",
    "\n",
    "data = {\n",
    "    \"sequences\": [momelotinib, gandotinib]\n",
    "}"
   ]
  },
  {
   "cell_type": "markdown",
   "id": "f38559c3-87b8-4ad2-8719-8ea7278dffa1",
   "metadata": {},
   "source": [
    "The following block sends the request to the MolMIM model using the `requests` library, and extract the response as a JSON object. It then extracts the \"hiddens\" key from the JSON object, converts it to a NumPy array, and squeezes any singleton dimensions from the array. It also extracts the first and second rows from the array, which will be used for interpolation."
   ]
  },
  {
   "cell_type": "code",
   "execution_count": null,
   "id": "f4aa885d-0120-424d-9601-8f073f298180",
   "metadata": {
    "scrolled": true
   },
   "outputs": [],
   "source": [
    "# Get the response from the server\n",
    "response = requests.post(url, headers=headers, json=data)\n",
    "\n",
    "# Convert the response to a JSON object\n",
    "response_json = response.json()\n",
    "\n",
    "# Extract the \"hiddens\" key from the JSON object\n",
    "hiddens = response_json[\"hiddens\"]\n",
    "\n",
    "# Convert the \"hiddens\" array to a NumPy array\n",
    "hiddens_array = np.array(hiddens)\n",
    "\n",
    "# Squeeze any singleton dimensions from the array\n",
    "hiddens_array = np.squeeze(hiddens_array)\n",
    "\n",
    "# Extract the first and second rows from the array\n",
    "row1 = hiddens_array[0]\n",
    "row2 = hiddens_array[1]"
   ]
  },
  {
   "cell_type": "markdown",
   "id": "252213a1-0528-40e5-be93-172ab581995f",
   "metadata": {},
   "source": [
    "The next block defines the number of interpolated molecules `n_interp` and creates an empty list `interpolated_rows` to store the interpolated vectors. It then loops through the range `n_interp` and calculates the interpolated vectors by linearly interpolating between the first and second rows. We convert the interpolated vectors to a NumPy array and expand the dimensions to match the expected input format for the decoder."
   ]
  },
  {
   "cell_type": "code",
   "execution_count": null,
   "id": "a6288834-1bcb-44f0-9542-a09108431a9c",
   "metadata": {
    "scrolled": true
   },
   "outputs": [],
   "source": [
    "# Specify the number of interpolated molecules\n",
    "n_interp = 50\n",
    "\n",
    "# Generate 10 vectors that interpolate between the two rows\n",
    "interpolated_rows = []\n",
    "for i in range(n_interp):\n",
    "    t = i / (n_interp - 1)\n",
    "    interpolated_row = (1 - t) * row1 + t * row2\n",
    "    interpolated_rows.append(interpolated_row)\n",
    "\n",
    "\n",
    "# Convert interpolated vectors to array\n",
    "interpolated_hiddens = np.expand_dims(np.array(interpolated_rows), axis=1)"
   ]
  },
  {
   "cell_type": "markdown",
   "id": "ac14036b-dafd-4114-8c1a-fc30befdf061",
   "metadata": {},
   "source": [
    "The following blocks packages the interpolated hidden states into a JSON object and sends a request to the MolMIM model to decode the interpolated hidden states to SMILES strings. It then deduplicates the list of generated molecules using a dictionary, and adds the starting molecules `momelotinib` and `gandotinib` to the ends of the list. We also create a list of legends for the molecules."
   ]
  },
  {
   "cell_type": "code",
   "execution_count": null,
   "id": "7d8942e7-db1b-42d1-b1bd-077718e77691",
   "metadata": {
    "scrolled": true
   },
   "outputs": [],
   "source": [
    "# Package array into JSON object\n",
    "interpolated_hiddens_json = {\"hiddens\": interpolated_hiddens.tolist(), \"mask\": [[True] for i in range(n_interp)]}\n",
    "\n",
    "# Decode interpolated hidden states to SMILES strings\n",
    "response = requests.post('http://molmim:8000/decode', \n",
    "                         headers={'accept': 'application/json', 'Content-Type': 'application/json'}, \n",
    "                         json=interpolated_hiddens_json)\n",
    "\n",
    "# Deduplicate the list of generated molecules\n",
    "molecules = [momelotinib] + list(dict.fromkeys(response.json()['generated'])) + [gandotinib]\n",
    "\n",
    "# Create legends\n",
    "legends = ['momelotinib'] + [f'Interpolated Molecule #{i+1}' for i in range(len(molecules) - 2)] + ['gandotinib']"
   ]
  },
  {
   "cell_type": "markdown",
   "id": "8f012ce3-905c-42eb-bcc7-d8f38063e9b6",
   "metadata": {},
   "source": [
    "In this chunk, we use the `Draw` module from RDKit to create a grid image of the molecules, with the legends and molecule names. In the output image, you can can see how the intermediate molecules share properties of each parent molecule, with either end of the spectrum being closer to respective starting molecule."
   ]
  },
  {
   "cell_type": "code",
   "execution_count": null,
   "id": "7db2bbcb-f778-4699-abbc-989197d9003b",
   "metadata": {
    "scrolled": true
   },
   "outputs": [],
   "source": [
    "Draw.MolsToGridImage([Chem.MolFromSmiles(smile, sanitize=False) for smile in molecules],\n",
    "                     legends=legends, molsPerRow=4, subImgSize=(300, 300))"
   ]
  }
 ],
 "metadata": {
  "kernelspec": {
   "display_name": "Python 3 (ipykernel)",
   "language": "python",
   "name": "python3"
  },
  "language_info": {
   "codemirror_mode": {
    "name": "ipython",
    "version": 3
   },
   "file_extension": ".py",
   "mimetype": "text/x-python",
   "name": "python",
   "nbconvert_exporter": "python",
   "pygments_lexer": "ipython3",
   "version": "3.11.6"
  }
 },
 "nbformat": 4,
 "nbformat_minor": 5
}
