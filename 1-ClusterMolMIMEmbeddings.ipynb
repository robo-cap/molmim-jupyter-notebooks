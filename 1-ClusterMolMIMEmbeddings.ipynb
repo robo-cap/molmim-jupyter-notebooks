{
 "cells": [
  {
   "cell_type": "markdown",
   "id": "8421a2db-655d-45b3-ae1e-25538e23f193",
   "metadata": {},
   "source": [
    "# Using MolMIM Embeddings to Cluster Molecules\n",
    "\n",
    "```{note}\n",
    "This notebook assumes that you have the MolMIM NIM available at the following address: `http://molmim:8000`. If your container is available at different address, you will need to modify the URL below.\n",
    "```\n",
    "\n",
    "Generative AI models, such as MolMIM, can be trained on molecular structures to learn a representation of molecules, often referred to as a \"molecular embedding\". These embeddings are high-dimensional vectors that capture the essential features and properties of molecules.\n",
    "\n",
    "Once trained, these models can be used to generate embeddings for new, unseen molecules. These embeddings can then be clustered using various clustering algorithms, such as k-means, hierarchical clustering, or density-based clustering.\n",
    "\n",
    "**Significance of clustering molecular embeddings:**\n",
    "\n",
    "Clustering molecular embeddings can reveal meaningful patterns and relationships between molecules that are not immediately apparent from their chemical structures. By grouping molecules with similar properties and behaviors, clustering can:\n",
    "\n",
    "1. **Identify molecular families**: Clustering can help identify groups of molecules with similar chemical structures, properties, and biological activities, which can be useful for understanding the relationships between molecular structure and function.\n",
    "2. **Reveal functional relationships**: Clustering can uncover functional relationships between molecules, such as molecules with similar biological targets or mechanisms of action.\n",
    "3. **Improve molecular property prediction**: By identifying clusters of molecules with similar properties, clustering can improve the accuracy of molecular property prediction models, such as those used for toxicity prediction or drug design.\n",
    "4. **Guide lead optimization**: Clustering can help identify clusters of molecules with similar biological activities, which can guide lead optimization efforts and accelerate the discovery of new drugs.\n",
    "5. **Uncover novel molecular mechanisms**: Clustering can reveal novel molecular mechanisms or biological pathways by identifying clusters of molecules with similar biological activities or properties.\n",
    "\n",
    "In the following notebook, we provide an example using the MolMIM NIM to generate embeddings for a small set of molecules. We then use those embeddings to cluster the molecules hierarchically.\n",
    "\n",
    "We start by importing the necessary libraries, including `requests` for making HTTP requests, `json` for working with JSON data, `pandas` for data manipulation, `numpy` for numerical computations, `seaborn` for data visualization, and `matplotlib` for plotting."
   ]
  },
  {
   "cell_type": "code",
   "execution_count": null,
   "id": "45538005-f2d6-40e9-9598-f0055e948e71",
   "metadata": {},
   "outputs": [],
   "source": [
    "import requests\n",
    "import json\n",
    "import pandas as pd\n",
    "import numpy as np\n",
    "import seaborn as sns\n",
    "import matplotlib.pyplot as plt"
   ]
  },
  {
   "cell_type": "markdown",
   "id": "3133ac59-0644-43b0-a69a-bd194ead85f6",
   "metadata": {},
   "source": [
    "The next block defines the URL and headers for making an HTTP request to the MolMIM NIM running at `http://molmim:8000/embedding`. The headers specify that the request body should be in JSON format and that the response should be in JSON format as well."
   ]
  },
  {
   "cell_type": "code",
   "execution_count": null,
   "id": "7cefd343-22fb-4bd8-89b7-aff1724c26c8",
   "metadata": {},
   "outputs": [],
   "source": [
    "# Define the URL and headers\n",
    "url = \"http://molmim:8000/embedding\"\n",
    "headers = {\n",
    "    'accept': 'application/json',\n",
    "    'Content-Type': 'application/json'\n",
    "}"
   ]
  },
  {
   "cell_type": "markdown",
   "id": "9ae91c94-2197-4251-965c-d416a35a27df",
   "metadata": {},
   "source": [
    "This block defines a list of molecule sequences in SMILES format. These sequences will be used to generate embeddings, which are numerical representations of the molecules. The molecules here are a very small subset of those found in the ZINC15 database."
   ]
  },
  {
   "cell_type": "code",
   "execution_count": null,
   "id": "657b9854-1752-4190-b8ba-03f57627e5a2",
   "metadata": {},
   "outputs": [],
   "source": [
    "molecules = [\n",
    "    \"CC[C@@H](OC)[C@H](Cl)C(=O)N1CCCCC1\",\n",
    "    \"C[C@H]([C@@H](C)O)S(=O)(=O)CC(=O)N1CCC1\",\n",
    "    \"CCOC(=O)C1CCN(C(=O)[C@@H](N)C[C@H](C)CC)CC1\",\n",
    "    \"CCN1CCN(C(=O)[C@H](C)N2C[C@@H](C)[S@+]([O-])[C@@H](C)C2)CC1\",\n",
    "    \"C[C@H](CC(N)=O)C(=O)N1CCCN(C(=O)CN2CCC[C@H]2C)CC1\",\n",
    "    \"CCC1(NCCC[C@H](C)O)CCN(C(=O)CC2(O)CCC2)CC1\",\n",
    "    \"CCOC(=O)[C@@H]1CCCN(C(=O)CN(C)[C@@H](C)C(=O)N2CCC[C@@H](C(=O)OCC)C2)C1\",\n",
    "    \"NC(=O)C[C@@H](N)C(=O)N1CCN(C(=O)CN2CCCC2)CC1\",\n",
    "    \"COC(=O)C[C@H](N)C(=O)N1CC[C@H](C(=O)OC)[C@H](C)C1\",\n",
    "    \"C[C@H](NC[C@@H]1[C@@H]2CCC[C@@H]21)C(=O)N1CCCCC1\",\n",
    "    \"CCN(CC(F)(F)F)C(=O)[C@@H]1CCCN(C(=O)[C@H](C)C(C)C)C1\",\n",
    "    \"CO[C@@H](C)C(=O)N1CCC(C)(C(N)=S)CC1\",\n",
    "    \"CN(C)C[C@@H](N)COCCC(=O)N1CCCCC1\",\n",
    "    \"CON(CC1CC1)C(=O)N1CC[C@@H](C(N)=S)C1\",\n",
    "    \"CC(C)N1CCN(C2CN(C(=O)[C@@]3(N)C[C@@H]3C)C2)CC1\",\n",
    "    \"CCNC(=O)CC(=O)O[C@@H](C)C(=O)N1CCC[C@H](C(=O)OCC)C1\",\n",
    "    \"CCN(CCC(N)=S)[C@@H](C)C(=O)N1CCCCCC1\",\n",
    "    \"CC(C)[C@@H](O)CN1CC[C@H](C(=O)N(C)C)C1\",\n",
    "    \"CC(C)C[C@@H](N)CC(=O)N1CCOC[C@@H](CO)C1\",\n",
    "    \"C[C@H](N)[C@@H](C)C(=O)CC1CCCC1\",\n",
    "    \"CCCC[C@H](C)N(CCCC)C(=O)[C@H]1CCCN(C(=O)[C@@H](C)CC)C1\",\n",
    "    \"C=C(C)CCNC[C@@H](C)N(C)C(=O)[C@@H]1CCCN(C(C)=O)C1\",\n",
    "    \"CCC(CC)CC(=O)O[C@@H](C(=O)N1CCC[C@@H](C(N)=O)C1)C(C)C\",\n",
    "    \"C[C@@H](C(=O)N1CCN(C(=O)C(=O)N2CCCC2)CC1)C(F)(F)F\",\n",
    "    \"CCC(CC)[S@@+]([O-])[C@@H](C)C(=O)N1CCC(C)CC1\"\n",
    "]"
   ]
  },
  {
   "cell_type": "markdown",
   "id": "8136923e-e62e-4e71-ae28-6ea37eb18772",
   "metadata": {},
   "source": [
    "This block converts the list of molecule sequences to a JSON string, makes a POST request to the server with the JSON data, parses the response as JSON, extracts the embeddings from the response, and converts the embeddings to a Pandas DataFrame."
   ]
  },
  {
   "cell_type": "code",
   "execution_count": null,
   "id": "58db51a0-8d95-4cd3-855e-5f058e62f50f",
   "metadata": {},
   "outputs": [],
   "source": [
    "# Convert the sequences to a JSON string\n",
    "data = json.dumps({\"sequences\": molecules})\n",
    "\n",
    "# Make the API call to get the embeddings\n",
    "response = requests.post(url, headers=headers, data=data)\n",
    "\n",
    "# Parse the response as JSON\n",
    "embeddings = json.loads(response.text)[\"embeddings\"]\n",
    "\n",
    "# Convert the embeddings to a Pandas DataFrame\n",
    "df = pd.DataFrame(embeddings)"
   ]
  },
  {
   "cell_type": "markdown",
   "id": "9f3d3af2-af81-4379-9a83-52b9e50e5f33",
   "metadata": {},
   "source": [
    "This final block plots a hierarchically clustered heatmap using seaborn. The heatmap shows the similarity between the molecule embeddings, with similar molecules clustered together. The x-axis shows the embedding dimension and the y axis shows the index of the molecule in the original list."
   ]
  },
  {
   "cell_type": "code",
   "execution_count": null,
   "id": "af3e624b-7400-40dd-ab4f-77198dc4b673",
   "metadata": {},
   "outputs": [],
   "source": [
    "# Plot the hierarchically clustered heatmap using seaborn\n",
    "sns.set()\n",
    "plt.figure(figsize=(8, 8))\n",
    "sns.clustermap(df, method=\"ward\", cmap=\"coolwarm\", col_cluster=False)\n",
    "plt.show()"
   ]
  },
  {
   "cell_type": "code",
   "execution_count": null,
   "id": "0d26aeab-bdda-43c0-ac34-8b2c0b242ce9",
   "metadata": {},
   "outputs": [],
   "source": []
  }
 ],
 "metadata": {
  "kernelspec": {
   "display_name": "Python 3 (ipykernel)",
   "language": "python",
   "name": "python3"
  },
  "language_info": {
   "codemirror_mode": {
    "name": "ipython",
    "version": 3
   },
   "file_extension": ".py",
   "mimetype": "text/x-python",
   "name": "python",
   "nbconvert_exporter": "python",
   "pygments_lexer": "ipython3",
   "version": "3.11.6"
  }
 },
 "nbformat": 4,
 "nbformat_minor": 5
}
